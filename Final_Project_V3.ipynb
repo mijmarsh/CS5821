{
  "nbformat": 4,
  "nbformat_minor": 0,
  "metadata": {
    "colab": {
      "provenance": []
    },
    "kernelspec": {
      "name": "python3",
      "display_name": "Python 3"
    },
    "language_info": {
      "name": "python"
    }
  },
  "cells": [
    {
      "cell_type": "code",
      "execution_count": null,
      "metadata": {
        "id": "1LGuN1b2b5PW"
      },
      "outputs": [],
      "source": [
        "# Import Libraries\n",
        "import matplotlib.pyplot as plt\n",
        "import tensorflow as tf\n",
        "import numpy as np\n",
        "import pandas as pd\n",
        "from tensorflow.keras.models import Sequential\n",
        "from tensorflow.keras.layers import Dense, LSTM\n",
        "from tensorflow.keras.callbacks import EarlyStopping, ReduceLROnPlateau\n",
        "\n",
        "# Maybe don't need\n",
        "from sklearn.model_selection import train_test_split\n"
      ]
    },
    {
      "cell_type": "code",
      "source": [
        "# Other imports\n",
        "!pip install meteostat\n",
        "from datetime import datetime\n",
        "from meteostat import Hourly\n",
        "from meteostat import Point\n",
        "import time\n",
        "from sklearn.preprocessing import MinMaxScaler\n",
        "from sklearn.utils.class_weight import compute_class_weight\n",
        "from sklearn.preprocessing import StandardScaler\n",
        "from tensorflow.keras import regularizers\n",
        "from sklearn import datasets\n",
        "from sklearn import metrics"
      ],
      "metadata": {
        "id": "COdmTGquLKgV",
        "colab": {
          "base_uri": "https://localhost:8080/"
        },
        "collapsed": true,
        "outputId": "3a164556-5fa5-47fa-9a98-9c9df412ffae"
      },
      "execution_count": null,
      "outputs": [
        {
          "output_type": "stream",
          "name": "stdout",
          "text": [
            "Collecting meteostat\n",
            "  Downloading meteostat-1.6.8-py3-none-any.whl.metadata (4.6 kB)\n",
            "Requirement already satisfied: pandas>=1.1 in /usr/local/lib/python3.10/dist-packages (from meteostat) (2.2.2)\n",
            "Requirement already satisfied: pytz in /usr/local/lib/python3.10/dist-packages (from meteostat) (2024.2)\n",
            "Requirement already satisfied: numpy in /usr/local/lib/python3.10/dist-packages (from meteostat) (1.26.4)\n",
            "Requirement already satisfied: python-dateutil>=2.8.2 in /usr/local/lib/python3.10/dist-packages (from pandas>=1.1->meteostat) (2.8.2)\n",
            "Requirement already satisfied: tzdata>=2022.7 in /usr/local/lib/python3.10/dist-packages (from pandas>=1.1->meteostat) (2024.2)\n",
            "Requirement already satisfied: six>=1.5 in /usr/local/lib/python3.10/dist-packages (from python-dateutil>=2.8.2->pandas>=1.1->meteostat) (1.16.0)\n",
            "Downloading meteostat-1.6.8-py3-none-any.whl (31 kB)\n",
            "Installing collected packages: meteostat\n",
            "Successfully installed meteostat-1.6.8\n"
          ]
        }
      ]
    },
    {
      "cell_type": "code",
      "source": [
        "# Testing Variables\n",
        "numStations = 1    # Change num to len(fips) for full test"
      ],
      "metadata": {
        "id": "M68AQBAh1OUm"
      },
      "execution_count": null,
      "outputs": []
    },
    {
      "cell_type": "code",
      "source": [
        "# Set time period for data imports\n",
        "startTime = datetime(2018, 1, 1)\n",
        "endTime = datetime(2018, 12, 31, 23, 59)\n",
        "\n",
        "startTime = pd.to_datetime(startTime)\n",
        "endTime = pd.to_datetime(endTime)\n",
        "timeSeries = pd.date_range(start=startTime, end=endTime, freq='15min')"
      ],
      "metadata": {
        "id": "vBpnsdguIbs6"
      },
      "execution_count": null,
      "outputs": []
    },
    {
      "cell_type": "code",
      "source": [
        "# Pull data for centroid of US counties\n",
        "tempData = pd.read_excel(\"us-county-boundaries.xlsx\")\n",
        "countyData = tempData[['GEOID', 'Geo Point']]\n",
        "countyData.sort_values(by = ['GEOID'], inplace=True)\n",
        "countyData[['lat', 'long']] = countyData['Geo Point'].str.split(',', expand=True)\n",
        "countyData.drop(columns=['Geo Point'], inplace=True)\n",
        "print(countyData.head(10))"
      ],
      "metadata": {
        "colab": {
          "base_uri": "https://localhost:8080/"
        },
        "collapsed": true,
        "id": "kpcNq9Lhf1Qh",
        "outputId": "fcb6c7d4-857a-4e8b-b8d9-926959f627e4"
      },
      "execution_count": null,
      "outputs": [
        {
          "output_type": "stream",
          "name": "stdout",
          "text": [
            "      GEOID            lat             long\n",
            "1433   1001  32.5349201866    -86.642749235\n",
            "1215   1003  30.6609696648   -87.7498400784\n",
            "1457   1005  31.8696032448   -85.3931969755\n",
            "1046   1007  32.9986442965   -87.1264391014\n",
            "2591   1009  33.9808673856   -86.5673709608\n",
            "1792   1011  32.1005542205   -85.7156972254\n",
            "1528   1013  31.7524339429   -86.6802892154\n",
            "3200   1015  33.7714324565   -85.8260308543\n",
            "948    1017  32.9143722298   -85.3920429513\n",
            "1519   1019  34.1759559677   -85.6037937156\n"
          ]
        },
        {
          "output_type": "stream",
          "name": "stderr",
          "text": [
            "SettingWithCopyWarning: \n",
            "A value is trying to be set on a copy of a slice from a DataFrame\n",
            "\n",
            "See the caveats in the documentation: https://pandas.pydata.org/pandas-docs/stable/user_guide/indexing.html#returning-a-view-versus-a-copy\n",
            "SettingWithCopyWarning: \n",
            "A value is trying to be set on a copy of a slice from a DataFrame.\n",
            "Try using .loc[row_indexer,col_indexer] = value instead\n",
            "\n",
            "See the caveats in the documentation: https://pandas.pydata.org/pandas-docs/stable/user_guide/indexing.html#returning-a-view-versus-a-copy\n",
            "SettingWithCopyWarning: \n",
            "A value is trying to be set on a copy of a slice from a DataFrame.\n",
            "Try using .loc[row_indexer,col_indexer] = value instead\n",
            "\n",
            "See the caveats in the documentation: https://pandas.pydata.org/pandas-docs/stable/user_guide/indexing.html#returning-a-view-versus-a-copy\n",
            "SettingWithCopyWarning: \n",
            "A value is trying to be set on a copy of a slice from a DataFrame\n",
            "\n",
            "See the caveats in the documentation: https://pandas.pydata.org/pandas-docs/stable/user_guide/indexing.html#returning-a-view-versus-a-copy\n"
          ]
        }
      ]
    },
    {
      "cell_type": "code",
      "source": [
        "# Fetch weather data in US in time range\n",
        "weatherData = pd.DataFrame()\n",
        "for i in range(numStations):\n",
        "  row = countyData.iloc[i]\n",
        "  latTemp = float(row['lat'])\n",
        "  longTemp = float(row['long'])\n",
        "  tempPoint = Point(latTemp, longTemp)\n",
        "  temp = Hourly(tempPoint, startTime, endTime)\n",
        "  dataTemp = temp.fetch()\n",
        "  if(not dataTemp.empty):\n",
        "    dataTemp.drop('dwpt', axis=1, inplace=True)\n",
        "    dataTemp.drop('snow', axis=1, inplace=True)\n",
        "    dataTemp.drop('wpgt', axis=1, inplace=True)\n",
        "    dataTemp.drop('tsun', axis=1, inplace=True)\n",
        "    dataTemp.drop('coco', axis=1, inplace=True)\n",
        "\n",
        "    # Rename Data to unique identifiers\n",
        "    dataTemp.rename(columns={'temp': str(row['GEOID']) + 'temp'}, inplace=True)\n",
        "    dataTemp.rename(columns={'rhum': str(row['GEOID']) + 'rhum'}, inplace=True)\n",
        "    dataTemp.rename(columns={'prcp': str(row['GEOID']) + 'prcp'}, inplace=True)\n",
        "    dataTemp.rename(columns={'wdir': str(row['GEOID']) + 'wdir'}, inplace=True)\n",
        "    dataTemp.rename(columns={'wspd': str(row['GEOID']) + 'wspd'}, inplace=True)\n",
        "    dataTemp.rename(columns={'pres': str(row['GEOID']) + 'pres'}, inplace=True)\n",
        "\n",
        "    # Begin Joining Data w/ unique column names\n",
        "    if weatherData.empty:\n",
        "      weatherData = dataTemp\n",
        "      print('reset the Dataframe')\n",
        "    else:\n",
        "      weatherData = pd.concat([weatherData, dataTemp], axis=1)\n",
        "      print('concat with dataframe')\n",
        "  else:\n",
        "    print('Empty dataTemp')\n",
        "  # Add delay in fetching data to prevent query errors. Experimentation required for reasonable amount of sleep\n",
        "  time.sleep(.25)\n",
        "\n",
        "# Print DataFrame\n",
        "print(weatherData)\n",
        "\n",
        "# Clean Data\n",
        "weatherData15min = weatherData.resample('15min').mean()\n",
        "weatherData15min = weatherData15min.interpolate()\n",
        "weatherData15min = weatherData15min.bfill()\n",
        "weatherData15min = weatherData15min.dropna(axis=1)\n",
        "\n",
        "# Ensure index matches neccesary format. Including last 45 minutes\n",
        "weatherData15min = weatherData15min.reindex(timeSeries)\n",
        "weatherData15min = weatherData15min.ffill()\n",
        "weatherData15min = weatherData15min.bfill()"
      ],
      "metadata": {
        "collapsed": true,
        "id": "ca2nce6jimGF",
        "colab": {
          "base_uri": "https://localhost:8080/"
        },
        "outputId": "e95fe65d-9498-4b18-eb5d-b04c617283a3"
      },
      "execution_count": null,
      "outputs": [
        {
          "output_type": "stream",
          "name": "stderr",
          "text": [
            "FutureWarning: Support for nested sequences for 'parse_dates' in pd.read_csv is deprecated. Combine the desired columns with pd.to_datetime after parsing instead.\n",
            "Warning: Cannot load hourly/2018/R254Y.csv.gz from https://bulk.meteostat.net/v2/\n",
            "FutureWarning: Support for nested sequences for 'parse_dates' in pd.read_csv is deprecated. Combine the desired columns with pd.to_datetime after parsing instead.\n",
            "FutureWarning: 'H' is deprecated and will be removed in a future version, please use 'h' instead.\n"
          ]
        },
        {
          "output_type": "stream",
          "name": "stdout",
          "text": [
            "reset the Dataframe\n",
            "                     1001temp  1001rhum  1001prcp  1001wdir  1001wspd  \\\n",
            "time                                                                    \n",
            "2018-01-01 01:00:00       2.5      59.0       NaN     350.0      20.5   \n",
            "2018-01-01 02:00:00       1.6      55.0       NaN     360.0      20.5   \n",
            "2018-01-01 03:00:00       0.3      57.0       NaN     350.0      16.6   \n",
            "2018-01-01 04:00:00      -0.7      60.0       NaN     350.0      16.6   \n",
            "2018-01-01 05:00:00      -1.0      54.0       NaN     350.0      24.1   \n",
            "...                       ...       ...       ...       ...       ...   \n",
            "2018-12-31 19:00:00      23.4      77.0       NaN     180.0      14.8   \n",
            "2018-12-31 20:00:00      24.0      75.0       NaN     170.0      20.5   \n",
            "2018-12-31 21:00:00      24.0      75.0       NaN     180.0      25.9   \n",
            "2018-12-31 22:00:00      23.6      77.0       NaN     180.0      20.5   \n",
            "2018-12-31 23:00:00      22.6      83.0       NaN     180.0      20.5   \n",
            "\n",
            "                     1001pres  \n",
            "time                           \n",
            "2018-01-01 01:00:00    1026.4  \n",
            "2018-01-01 02:00:00    1027.1  \n",
            "2018-01-01 03:00:00    1028.2  \n",
            "2018-01-01 04:00:00    1028.5  \n",
            "2018-01-01 05:00:00    1028.8  \n",
            "...                       ...  \n",
            "2018-12-31 19:00:00    1014.4  \n",
            "2018-12-31 20:00:00    1013.7  \n",
            "2018-12-31 21:00:00    1014.0  \n",
            "2018-12-31 22:00:00    1014.4  \n",
            "2018-12-31 23:00:00    1014.7  \n",
            "\n",
            "[8759 rows x 6 columns]\n"
          ]
        }
      ]
    },
    {
      "cell_type": "code",
      "source": [
        "# Determining Redundant Input Features Using Correlation Matrix\n",
        "matrix = weatherData15min.corr()\n",
        "\n",
        "# plotting correlation matrix\n",
        "plt.imshow(matrix, cmap='Blues')\n",
        "\n",
        "# adding colorbar\n",
        "plt.colorbar()\n",
        "\n",
        "# extracting variable names\n",
        "variables = []\n",
        "for i in matrix.columns:\n",
        "    variables.append(i)\n",
        "\n",
        "# Adding labels to the matrix\n",
        "plt.xticks(range(len(matrix)), variables, rotation=45, ha='right')\n",
        "plt.yticks(range(len(matrix)), variables)\n",
        "\n",
        "# Display the plot\n",
        "plt.show()\n",
        "\n",
        "# Continue to Explore Correlation Matrix\n",
        "print(matrix)\n",
        "print(matrix>0.7)"
      ],
      "metadata": {
        "colab": {
          "base_uri": "https://localhost:8080/",
          "height": 737
        },
        "id": "_f8l-Z6aEOm9",
        "outputId": "0fdfbe0b-7a36-4411-fada-31643d540024"
      },
      "execution_count": null,
      "outputs": [
        {
          "output_type": "display_data",
          "data": {
            "text/plain": [
              "<Figure size 640x480 with 2 Axes>"
            ],
            "image/png": "[encoded data removed]"
          },
          "metadata": {}
        },
        {
          "output_type": "stream",
          "name": "stdout",
          "text": [
            "          1001temp  1001rhum  1001prcp  1001wdir  1001wspd  1001pres\n",
            "1001temp  1.000000 -0.069080  0.215490 -0.140148 -0.056120 -0.484927\n",
            "1001rhum -0.069080  1.000000  0.038333 -0.084848 -0.335770 -0.224744\n",
            "1001prcp  0.215490  0.038333  1.000000 -0.012945 -0.101304 -0.129115\n",
            "1001wdir -0.140148 -0.084848 -0.012945  1.000000  0.026057 -0.059011\n",
            "1001wspd -0.056120 -0.335770 -0.101304  0.026057  1.000000 -0.004862\n",
            "1001pres -0.484927 -0.224744 -0.129115 -0.059011 -0.004862  1.000000\n",
            "          1001temp  1001rhum  1001prcp  1001wdir  1001wspd  1001pres\n",
            "1001temp      True     False     False     False     False     False\n",
            "1001rhum     False      True     False     False     False     False\n",
            "1001prcp     False     False      True     False     False     False\n",
            "1001wdir     False     False     False      True     False     False\n",
            "1001wspd     False     False     False     False      True     False\n",
            "1001pres     False     False     False     False     False      True\n"
          ]
        }
      ]
    },
    {
      "cell_type": "code",
      "source": [
        "# Standardize the Weather Data set\n",
        "scaler = StandardScaler()\n",
        "weatherData15min = scaler.fit_transform(weatherData15min)"
      ],
      "metadata": {
        "id": "Nl_TeJcaHDrY"
      },
      "execution_count": null,
      "outputs": []
    },
    {
      "cell_type": "code",
      "source": [
        "# Pull Outage Data into Program\n",
        "tempData = pd.read_csv(\"eaglei_outages_2018.csv\")\n",
        "outageData = tempData[['run_start_time', 'fips_code']]"
      ],
      "metadata": {
        "id": "-kRqJrOWFULR",
        "collapsed": true
      },
      "execution_count": null,
      "outputs": []
    },
    {
      "cell_type": "code",
      "source": [
        "# Fetching Outage Data\n",
        "for i in range(numStations):\n",
        "  # Get Data\n",
        "  curFips = countyData.iloc[i]['GEOID']\n",
        "  temp = outageData.loc[outageData['fips_code'].isin([curFips])]\n",
        "\n",
        "  # Adjust Data to have run_start_time as index, and values as 1 or 0 based on outage.\n",
        "  temp['run_start_time'] = pd.to_datetime(temp['run_start_time'], format='%Y-%m-%d %H:%M:%S')\n",
        "  temp.set_index('run_start_time', inplace=True)\n",
        "  temp.loc[temp['fips_code'] == curFips, 'fips_code'] = 1\n",
        "  temp.rename(columns={'fips_code': str(curFips)}, inplace=True)\n",
        "\n",
        "  # Concatenate data onto Outage Data 2 set\n",
        "  if i == 0:\n",
        "    outageData2 = pd.DataFrame(temp, index = timeSeries)\n",
        "  else:\n",
        "    outageData2 = outageData2.join(temp)\n",
        "\n",
        "# Fill NaN with 0, to be readable by ML model\n",
        "outageData2 = outageData2.fillna(0)\n",
        "\n",
        "# Explore the Output\n",
        "print(outageData2.head())\n",
        "print(outageData2.shape)\n",
        "outageData2.describe()"
      ],
      "metadata": {
        "collapsed": true,
        "id": "6pCEgHI1jLnk",
        "colab": {
          "base_uri": "https://localhost:8080/",
          "height": 665
        },
        "outputId": "76275cd7-6576-4529-f8a6-9cc032f04faa"
      },
      "execution_count": null,
      "outputs": [
        {
          "output_type": "stream",
          "name": "stdout",
          "text": [
            "                     1001\n",
            "2018-01-01 00:00:00   0.0\n",
            "2018-01-01 00:15:00   0.0\n",
            "2018-01-01 00:30:00   0.0\n",
            "2018-01-01 00:45:00   0.0\n",
            "2018-01-01 01:00:00   1.0\n",
            "(35040, 1)\n"
          ]
        },
        {
          "output_type": "stream",
          "name": "stderr",
          "text": [
            "SettingWithCopyWarning: \n",
            "A value is trying to be set on a copy of a slice from a DataFrame.\n",
            "Try using .loc[row_indexer,col_indexer] = value instead\n",
            "\n",
            "See the caveats in the documentation: https://pandas.pydata.org/pandas-docs/stable/user_guide/indexing.html#returning-a-view-versus-a-copy\n",
            "SettingWithCopyWarning: \n",
            "A value is trying to be set on a copy of a slice from a DataFrame\n",
            "\n",
            "See the caveats in the documentation: https://pandas.pydata.org/pandas-docs/stable/user_guide/indexing.html#returning-a-view-versus-a-copy\n",
            "SettingWithCopyWarning: \n",
            "A value is trying to be set on a copy of a slice from a DataFrame\n",
            "\n",
            "See the caveats in the documentation: https://pandas.pydata.org/pandas-docs/stable/user_guide/indexing.html#returning-a-view-versus-a-copy\n"
          ]
        },
        {
          "output_type": "execute_result",
          "data": {
            "text/plain": [
              "               1001\n",
              "count  35040.000000\n",
              "mean       0.024144\n",
              "std        0.153498\n",
              "min        0.000000\n",
              "25%        0.000000\n",
              "50%        0.000000\n",
              "75%        0.000000\n",
              "max        1.000000"
            ],
            "text/html": [
              "\n",
              "  <div id=\"df-80bbb4d2-9e60-42c8-9998-fa0db546bc4e\" class=\"colab-df-container\">\n",
              "    <div>\n",
              "<style scoped>\n",
              "    .dataframe tbody tr th:only-of-type {\n",
              "        vertical-align: middle;\n",
              "    }\n",
              "\n",
              "    .dataframe tbody tr th {\n",
              "        vertical-align: top;\n",
              "    }\n",
              "\n",
              "    .dataframe thead th {\n",
              "        text-align: right;\n",
              "    }\n",
              "</style>\n",
              "<table border=\"1\" class=\"dataframe\">\n",
              "  <thead>\n",
              "    <tr style=\"text-align: right;\">\n",
              "      <th></th>\n",
              "      <th>1001</th>\n",
              "    </tr>\n",
              "  </thead>\n",
              "  <tbody>\n",
              "    <tr>\n",
              "      <th>count</th>\n",
              "      <td>35040.000000</td>\n",
              "    </tr>\n",
              "    <tr>\n",
              "      <th>mean</th>\n",
              "      <td>0.024144</td>\n",
              "    </tr>\n",
              "    <tr>\n",
              "      <th>std</th>\n",
              "      <td>0.153498</td>\n",
              "    </tr>\n",
              "    <tr>\n",
              "      <th>min</th>\n",
              "      <td>0.000000</td>\n",
              "    </tr>\n",
              "    <tr>\n",
              "      <th>25%</th>\n",
              "      <td>0.000000</td>\n",
              "    </tr>\n",
              "    <tr>\n",
              "      <th>50%</th>\n",
              "      <td>0.000000</td>\n",
              "    </tr>\n",
              "    <tr>\n",
              "      <th>75%</th>\n",
              "      <td>0.000000</td>\n",
              "    </tr>\n",
              "    <tr>\n",
              "      <th>max</th>\n",
              "      <td>1.000000</td>\n",
              "    </tr>\n",
              "  </tbody>\n",
              "</table>\n",
              "</div>\n",
              "    <div class=\"colab-df-buttons\">\n",
              "\n",
              "  <div class=\"colab-df-container\">\n",
              "    <button class=\"colab-df-convert\" onclick=\"convertToInteractive('df-80bbb4d2-9e60-42c8-9998-fa0db546bc4e')\"\n",
              "            title=\"Convert this dataframe to an interactive table.\"\n",
              "            style=\"display:none;\">\n",
              "\n",
              "  <svg xmlns=\"http://www.w3.org/2000/svg\" height=\"24px\" viewBox=\"0 -960 960 960\">\n",
              "    <path d=\"M120-120v-720h720v720H120Zm60-500h600v-160H180v160Zm220 220h160v-160H400v160Zm0 220h160v-160H400v160ZM180-400h160v-160H180v160Zm440 0h160v-160H620v160ZM180-180h160v-160H180v160Zm440 0h160v-160H620v160Z\"/>\n",
              "  </svg>\n",
              "    </button>\n",
              "\n",
              "  <style>\n",
              "    .colab-df-container {\n",
              "      display:flex;\n",
              "      gap: 12px;\n",
              "    }\n",
              "\n",
              "    .colab-df-convert {\n",
              "      background-color: #E8F0FE;\n",
              "      border: none;\n",
              "      border-radius: 50%;\n",
              "      cursor: pointer;\n",
              "      display: none;\n",
              "      fill: #1967D2;\n",
              "      height: 32px;\n",
              "      padding: 0 0 0 0;\n",
              "      width: 32px;\n",
              "    }\n",
              "\n",
              "    .colab-df-convert:hover {\n",
              "      background-color: #E2EBFA;\n",
              "      box-shadow: 0px 1px 2px rgba(60, 64, 67, 0.3), 0px 1px 3px 1px rgba(60, 64, 67, 0.15);\n",
              "      fill: #174EA6;\n",
              "    }\n",
              "\n",
              "    .colab-df-buttons div {\n",
              "      margin-bottom: 4px;\n",
              "    }\n",
              "\n",
              "    [theme=dark] .colab-df-convert {\n",
              "      background-color: #3B4455;\n",
              "      fill: #D2E3FC;\n",
              "    }\n",
              "\n",
              "    [theme=dark] .colab-df-convert:hover {\n",
              "      background-color: #434B5C;\n",
              "      box-shadow: 0px 1px 3px 1px rgba(0, 0, 0, 0.15);\n",
              "      filter: drop-shadow(0px 1px 2px rgba(0, 0, 0, 0.3));\n",
              "      fill: #FFFFFF;\n",
              "    }\n",
              "  </style>\n",
              "\n",
              "    <script>\n",
              "      const buttonEl =\n",
              "        document.querySelector('#df-80bbb4d2-9e60-42c8-9998-fa0db546bc4e button.colab-df-convert');\n",
              "      buttonEl.style.display =\n",
              "        google.colab.kernel.accessAllowed ? 'block' : 'none';\n",
              "\n",
              "      async function convertToInteractive(key) {\n",
              "        const element = document.querySelector('#df-80bbb4d2-9e60-42c8-9998-fa0db546bc4e');\n",
              "        const dataTable =\n",
              "          await google.colab.kernel.invokeFunction('convertToInteractive',\n",
              "                                                    [key], {});\n",
              "        if (!dataTable) return;\n",
              "\n",
              "        const docLinkHtml = 'Like what you see? Visit the ' +\n",
              "          '<a target=\"_blank\" href=https://colab.research.google.com/notebooks/data_table.ipynb>data table notebook</a>'\n",
              "          + ' to learn more about interactive tables.';\n",
              "        element.innerHTML = '';\n",
              "        dataTable['output_type'] = 'display_data';\n",
              "        await google.colab.output.renderOutput(dataTable, element);\n",
              "        const docLink = document.createElement('div');\n",
              "        docLink.innerHTML = docLinkHtml;\n",
              "        element.appendChild(docLink);\n",
              "      }\n",
              "    </script>\n",
              "  </div>\n",
              "\n",
              "\n",
              "<div id=\"df-9de0778d-c8ae-4001-933b-9e3fdb6d594c\">\n",
              "  <button class=\"colab-df-quickchart\" onclick=\"quickchart('df-9de0778d-c8ae-4001-933b-9e3fdb6d594c')\"\n",
              "            title=\"Suggest charts\"\n",
              "            style=\"display:none;\">\n",
              "\n",
              "<svg xmlns=\"http://www.w3.org/2000/svg\" height=\"24px\"viewBox=\"0 0 24 24\"\n",
              "     width=\"24px\">\n",
              "    <g>\n",
              "        <path d=\"M19 3H5c-1.1 0-2 .9-2 2v14c0 1.1.9 2 2 2h14c1.1 0 2-.9 2-2V5c0-1.1-.9-2-2-2zM9 17H7v-7h2v7zm4 0h-2V7h2v10zm4 0h-2v-4h2v4z\"/>\n",
              "    </g>\n",
              "</svg>\n",
              "  </button>\n",
              "\n",
              "<style>\n",
              "  .colab-df-quickchart {\n",
              "      --bg-color: #E8F0FE;\n",
              "      --fill-color: #1967D2;\n",
              "      --hover-bg-color: #E2EBFA;\n",
              "      --hover-fill-color: #174EA6;\n",
              "      --disabled-fill-color: #AAA;\n",
              "      --disabled-bg-color: #DDD;\n",
              "  }\n",
              "\n",
              "  [theme=dark] .colab-df-quickchart {\n",
              "      --bg-color: #3B4455;\n",
              "      --fill-color: #D2E3FC;\n",
              "      --hover-bg-color: #434B5C;\n",
              "      --hover-fill-color: #FFFFFF;\n",
              "      --disabled-bg-color: #3B4455;\n",
              "      --disabled-fill-color: #666;\n",
              "  }\n",
              "\n",
              "  .colab-df-quickchart {\n",
              "    background-color: var(--bg-color);\n",
              "    border: none;\n",
              "    border-radius: 50%;\n",
              "    cursor: pointer;\n",
              "    display: none;\n",
              "    fill: var(--fill-color);\n",
              "    height: 32px;\n",
              "    padding: 0;\n",
              "    width: 32px;\n",
              "  }\n",
              "\n",
              "  .colab-df-quickchart:hover {\n",
              "    background-color: var(--hover-bg-color);\n",
              "    box-shadow: 0 1px 2px rgba(60, 64, 67, 0.3), 0 1px 3px 1px rgba(60, 64, 67, 0.15);\n",
              "    fill: var(--button-hover-fill-color);\n",
              "  }\n",
              "\n",
              "  .colab-df-quickchart-complete:disabled,\n",
              "  .colab-df-quickchart-complete:disabled:hover {\n",
              "    background-color: var(--disabled-bg-color);\n",
              "    fill: var(--disabled-fill-color);\n",
              "    box-shadow: none;\n",
              "  }\n",
              "\n",
              "  .colab-df-spinner {\n",
              "    border: 2px solid var(--fill-color);\n",
              "    border-color: transparent;\n",
              "    border-bottom-color: var(--fill-color);\n",
              "    animation:\n",
              "      spin 1s steps(1) infinite;\n",
              "  }\n",
              "\n",
              "  @keyframes spin {\n",
              "    0% {\n",
              "      border-color: transparent;\n",
              "      border-bottom-color: var(--fill-color);\n",
              "      border-left-color: var(--fill-color);\n",
              "    }\n",
              "    20% {\n",
              "      border-color: transparent;\n",
              "      border-left-color: var(--fill-color);\n",
              "      border-top-color: var(--fill-color);\n",
              "    }\n",
              "    30% {\n",
              "      border-color: transparent;\n",
              "      border-left-color: var(--fill-color);\n",
              "      border-top-color: var(--fill-color);\n",
              "      border-right-color: var(--fill-color);\n",
              "    }\n",
              "    40% {\n",
              "      border-color: transparent;\n",
              "      border-right-color: var(--fill-color);\n",
              "      border-top-color: var(--fill-color);\n",
              "    }\n",
              "    60% {\n",
              "      border-color: transparent;\n",
              "      border-right-color: var(--fill-color);\n",
              "    }\n",
              "    80% {\n",
              "      border-color: transparent;\n",
              "      border-right-color: var(--fill-color);\n",
              "      border-bottom-color: var(--fill-color);\n",
              "    }\n",
              "    90% {\n",
              "      border-color: transparent;\n",
              "      border-bottom-color: var(--fill-color);\n",
              "    }\n",
              "  }\n",
              "</style>\n",
              "\n",
              "  <script>\n",
              "    async function quickchart(key) {\n",
              "      const quickchartButtonEl =\n",
              "        document.querySelector('#' + key + ' button');\n",
              "      quickchartButtonEl.disabled = true;  // To prevent multiple clicks.\n",
              "      quickchartButtonEl.classList.add('colab-df-spinner');\n",
              "      try {\n",
              "        const charts = await google.colab.kernel.invokeFunction(\n",
              "            'suggestCharts', [key], {});\n",
              "      } catch (error) {\n",
              "        console.error('Error during call to suggestCharts:', error);\n",
              "      }\n",
              "      quickchartButtonEl.classList.remove('colab-df-spinner');\n",
              "      quickchartButtonEl.classList.add('colab-df-quickchart-complete');\n",
              "    }\n",
              "    (() => {\n",
              "      let quickchartButtonEl =\n",
              "        document.querySelector('#df-9de0778d-c8ae-4001-933b-9e3fdb6d594c button');\n",
              "      quickchartButtonEl.style.display =\n",
              "        google.colab.kernel.accessAllowed ? 'block' : 'none';\n",
              "    })();\n",
              "  </script>\n",
              "</div>\n",
              "\n",
              "    </div>\n",
              "  </div>\n"
            ],
            "application/vnd.google.colaboratory.intrinsic+json": {
              "type": "dataframe",
              "summary": "{\n  \"name\": \"outageData2\",\n  \"rows\": 8,\n  \"fields\": [\n    {\n      \"column\": \"1001\",\n      \"properties\": {\n        \"dtype\": \"number\",\n        \"std\": 12388.451331264794,\n        \"min\": 0.0,\n        \"max\": 35040.0,\n        \"num_unique_values\": 5,\n        \"samples\": [\n          0.024143835616438358,\n          1.0,\n          0.15349782812086143\n        ],\n        \"semantic_type\": \"\",\n        \"description\": \"\"\n      }\n    }\n  ]\n}"
            }
          },
          "metadata": {},
          "execution_count": 10
        }
      ]
    },
    {
      "cell_type": "code",
      "source": [
        "# Create training and testing sets\n",
        "x_train = weatherData15min\n",
        "y_train = outageData2\n",
        "inputShape = x_train.shape[1]\n",
        "outputShape = y_train.shape[1]\n",
        "\n",
        "# Reshape the input data to have correct shape for CNN\n",
        "x_train = x_train.reshape(x_train.shape[0], x_train.shape[1], 1)\n",
        "print(x_train.shape)\n",
        "\n",
        "# Compute Class Weights\n",
        "class_weights = {}\n",
        "count = {0: 0, 1: 0}\n",
        "for col in y_train.columns:\n",
        "  tempCount = y_train[col].value_counts()\n",
        "  count[0] += tempCount.get(0,0)\n",
        "  count[1] += tempCount.get(1,0)\n",
        "print(count)\n",
        "if(count[0] > count[1]):\n",
        "  class_weights[0] = count[0] / count[0]\n",
        "  class_weights[1] = count[0] / count[1]\n",
        "else:\n",
        "  class_weights[0] = count[1] / count[0]\n",
        "  class_weights[1] = count[1] / count[1]\n",
        "print(class_weights)\n",
        "\n",
        "# Convert y data into array\n",
        "y_train = y_train.to_numpy()"
      ],
      "metadata": {
        "id": "XZ8f8DVtef3_",
        "colab": {
          "base_uri": "https://localhost:8080/"
        },
        "outputId": "3b42d108-5084-4810-ed31-082889b0fada"
      },
      "execution_count": null,
      "outputs": [
        {
          "output_type": "stream",
          "name": "stdout",
          "text": [
            "(35040, 6, 1)\n",
            "{0: 34194, 1: 846}\n",
            "{0: 1.0, 1: 40.41843971631206}\n"
          ]
        }
      ]
    },
    {
      "cell_type": "code",
      "source": [
        "# Define Model\n",
        "model = tf.keras.models.Sequential()\n",
        "\n",
        "# Add Layers. Consider Adding Pooling/Figure how to add them\n",
        "model.add(tf.keras.layers.Conv1D(filters=32, kernel_size=3, padding='same', activation='relu', input_shape=(inputShape,1)))\n",
        "model.add(tf.keras.layers.BatchNormalization())\n",
        "model.add(tf.keras.layers.Conv1D(filters=64, kernel_size=3, padding='same', kernel_regularizer=regularizers.l2(0.001), activation='relu'))\n",
        "model.add(tf.keras.layers.BatchNormalization())\n",
        "model.add(tf.keras.layers.Conv1D(filters=128, kernel_size=3, padding='same', kernel_regularizer=regularizers.l2(0.001), activation='relu'))\n",
        "\n",
        "model.add(tf.keras.layers.Flatten())\n",
        "model.add(tf.keras.layers.Dense(units=128, activation='relu'))\n",
        "model.add(tf.keras.layers.Dropout(0.4))\n",
        "model.add(tf.keras.layers.Dense(units=64, activation='relu'))\n",
        "model.add(tf.keras.layers.Dropout(0.4))\n",
        "model.add(tf.keras.layers.Dense(units=outputShape, activation='sigmoid'))"
      ],
      "metadata": {
        "colab": {
          "base_uri": "https://localhost:8080/"
        },
        "id": "AqoGeAYrlYpd",
        "outputId": "f542d8e8-2a85-4138-81d5-489cde8dc794"
      },
      "execution_count": null,
      "outputs": [
        {
          "output_type": "stream",
          "name": "stderr",
          "text": [
            "UserWarning: Do not pass an `input_shape`/`input_dim` argument to a layer. When using Sequential models, prefer using an `Input(shape)` object as the first layer in the model instead.\n"
          ]
        }
      ]
    },
    {
      "cell_type": "code",
      "source": [
        "# Define callbacks\n",
        "early_stopping = EarlyStopping(monitor='val_loss', patience=20, restore_best_weights=True)\n",
        "reduce_lr = ReduceLROnPlateau(monitor='val_loss', factor=0.25, patience=10, min_lr=1e-6)\n",
        "model_checkpoint = tf.keras.callbacks.ModelCheckpoint(filepath = '/tmp/ckpt/checkpoint.model.keras', save_best_only=True, monitor='val_loss', mode='min')"
      ],
      "metadata": {
        "id": "-26sc4dXI0I9"
      },
      "execution_count": null,
      "outputs": []
    },
    {
      "cell_type": "code",
      "source": [
        "model.compile(optimizer='adam',\n",
        "              loss='binary_crossentropy',\n",
        "              metrics=['accuracy'])"
      ],
      "metadata": {
        "id": "769AfM8xKjoj"
      },
      "execution_count": null,
      "outputs": []
    },
    {
      "cell_type": "code",
      "source": [
        "# Print Model Summary\n",
        "model.summary()"
      ],
      "metadata": {
        "id": "kbQIBg-hI5UA",
        "colab": {
          "base_uri": "https://localhost:8080/",
          "height": 513
        },
        "outputId": "36cdca41-29b7-44d2-ebe9-458c42db4de3",
        "collapsed": true
      },
      "execution_count": null,
      "outputs": [
        {
          "output_type": "display_data",
          "data": {
            "text/plain": [
              "\u001b[1mModel: \"sequential\"\u001b[0m\n"
            ],
            "text/html": [
              "<pre style=\"white-space:pre;overflow-x:auto;line-height:normal;font-family:Menlo,'DejaVu Sans Mono',consolas,'Courier New',monospace\"><span style=\"font-weight: bold\">Model: \"sequential\"</span>\n",
              "</pre>\n"
            ]
          },
          "metadata": {}
        },
        {
          "output_type": "display_data",
          "data": {
            "text/plain": [
              "┏━━━━━━━━━━━━━━━━━━━━━━━━━━━━━━━━━━━━━━┳━━━━━━━━━━━━━━━━━━━━━━━━━━━━━┳━━━━━━━━━━━━━━━━━┓\n",
              "┃\u001b[1m \u001b[0m\u001b[1mLayer (type)                        \u001b[0m\u001b[1m \u001b[0m┃\u001b[1m \u001b[0m\u001b[1mOutput Shape               \u001b[0m\u001b[1m \u001b[0m┃\u001b[1m \u001b[0m\u001b[1m        Param #\u001b[0m\u001b[1m \u001b[0m┃\n",
              "┡━━━━━━━━━━━━━━━━━━━━━━━━━━━━━━━━━━━━━━╇━━━━━━━━━━━━━━━━━━━━━━━━━━━━━╇━━━━━━━━━━━━━━━━━┩\n",
              "│ conv1d (\u001b[38;5;33mConv1D\u001b[0m)                      │ (\u001b[38;5;45mNone\u001b[0m, \u001b[38;5;34m6\u001b[0m, \u001b[38;5;34m32\u001b[0m)               │             \u001b[38;5;34m128\u001b[0m │\n",
              "├──────────────────────────────────────┼─────────────────────────────┼─────────────────┤\n",
              "│ batch_normalization                  │ (\u001b[38;5;45mNone\u001b[0m, \u001b[38;5;34m6\u001b[0m, \u001b[38;5;34m32\u001b[0m)               │             \u001b[38;5;34m128\u001b[0m │\n",
              "│ (\u001b[38;5;33mBatchNormalization\u001b[0m)                 │                             │                 │\n",
              "├──────────────────────────────────────┼─────────────────────────────┼─────────────────┤\n",
              "│ conv1d_1 (\u001b[38;5;33mConv1D\u001b[0m)                    │ (\u001b[38;5;45mNone\u001b[0m, \u001b[38;5;34m6\u001b[0m, \u001b[38;5;34m64\u001b[0m)               │           \u001b[38;5;34m6,208\u001b[0m │\n",
              "├──────────────────────────────────────┼─────────────────────────────┼─────────────────┤\n",
              "│ batch_normalization_1                │ (\u001b[38;5;45mNone\u001b[0m, \u001b[38;5;34m6\u001b[0m, \u001b[38;5;34m64\u001b[0m)               │             \u001b[38;5;34m256\u001b[0m │\n",
              "│ (\u001b[38;5;33mBatchNormalization\u001b[0m)                 │                             │                 │\n",
              "├──────────────────────────────────────┼─────────────────────────────┼─────────────────┤\n",
              "│ conv1d_2 (\u001b[38;5;33mConv1D\u001b[0m)                    │ (\u001b[38;5;45mNone\u001b[0m, \u001b[38;5;34m6\u001b[0m, \u001b[38;5;34m128\u001b[0m)              │          \u001b[38;5;34m24,704\u001b[0m │\n",
              "├──────────────────────────────────────┼─────────────────────────────┼─────────────────┤\n",
              "│ flatten (\u001b[38;5;33mFlatten\u001b[0m)                    │ (\u001b[38;5;45mNone\u001b[0m, \u001b[38;5;34m768\u001b[0m)                 │               \u001b[38;5;34m0\u001b[0m │\n",
              "├──────────────────────────────────────┼─────────────────────────────┼─────────────────┤\n",
              "│ dense (\u001b[38;5;33mDense\u001b[0m)                        │ (\u001b[38;5;45mNone\u001b[0m, \u001b[38;5;34m128\u001b[0m)                 │          \u001b[38;5;34m98,432\u001b[0m │\n",
              "├──────────────────────────────────────┼─────────────────────────────┼─────────────────┤\n",
              "│ dropout (\u001b[38;5;33mDropout\u001b[0m)                    │ (\u001b[38;5;45mNone\u001b[0m, \u001b[38;5;34m128\u001b[0m)                 │               \u001b[38;5;34m0\u001b[0m │\n",
              "├──────────────────────────────────────┼─────────────────────────────┼─────────────────┤\n",
              "│ dense_1 (\u001b[38;5;33mDense\u001b[0m)                      │ (\u001b[38;5;45mNone\u001b[0m, \u001b[38;5;34m64\u001b[0m)                  │           \u001b[38;5;34m8,256\u001b[0m │\n",
              "├──────────────────────────────────────┼─────────────────────────────┼─────────────────┤\n",
              "│ dropout_1 (\u001b[38;5;33mDropout\u001b[0m)                  │ (\u001b[38;5;45mNone\u001b[0m, \u001b[38;5;34m64\u001b[0m)                  │               \u001b[38;5;34m0\u001b[0m │\n",
              "├──────────────────────────────────────┼─────────────────────────────┼─────────────────┤\n",
              "│ dense_2 (\u001b[38;5;33mDense\u001b[0m)                      │ (\u001b[38;5;45mNone\u001b[0m, \u001b[38;5;34m1\u001b[0m)                   │              \u001b[38;5;34m65\u001b[0m │\n",
              "└──────────────────────────────────────┴─────────────────────────────┴─────────────────┘\n"
            ],
            "text/html": [
              "<pre style=\"white-space:pre;overflow-x:auto;line-height:normal;font-family:Menlo,'DejaVu Sans Mono',consolas,'Courier New',monospace\">┏━━━━━━━━━━━━━━━━━━━━━━━━━━━━━━━━━━━━━━┳━━━━━━━━━━━━━━━━━━━━━━━━━━━━━┳━━━━━━━━━━━━━━━━━┓\n",
              "┃<span style=\"font-weight: bold\"> Layer (type)                         </span>┃<span style=\"font-weight: bold\"> Output Shape                </span>┃<span style=\"font-weight: bold\">         Param # </span>┃\n",
              "┡━━━━━━━━━━━━━━━━━━━━━━━━━━━━━━━━━━━━━━╇━━━━━━━━━━━━━━━━━━━━━━━━━━━━━╇━━━━━━━━━━━━━━━━━┩\n",
              "│ conv1d (<span style=\"color: #0087ff; text-decoration-color: #0087ff\">Conv1D</span>)                      │ (<span style=\"color: #00d7ff; text-decoration-color: #00d7ff\">None</span>, <span style=\"color: #00af00; text-decoration-color: #00af00\">6</span>, <span style=\"color: #00af00; text-decoration-color: #00af00\">32</span>)               │             <span style=\"color: #00af00; text-decoration-color: #00af00\">128</span> │\n",
              "├──────────────────────────────────────┼─────────────────────────────┼─────────────────┤\n",
              "│ batch_normalization                  │ (<span style=\"color: #00d7ff; text-decoration-color: #00d7ff\">None</span>, <span style=\"color: #00af00; text-decoration-color: #00af00\">6</span>, <span style=\"color: #00af00; text-decoration-color: #00af00\">32</span>)               │             <span style=\"color: #00af00; text-decoration-color: #00af00\">128</span> │\n",
              "│ (<span style=\"color: #0087ff; text-decoration-color: #0087ff\">BatchNormalization</span>)                 │                             │                 │\n",
              "├──────────────────────────────────────┼─────────────────────────────┼─────────────────┤\n",
              "│ conv1d_1 (<span style=\"color: #0087ff; text-decoration-color: #0087ff\">Conv1D</span>)                    │ (<span style=\"color: #00d7ff; text-decoration-color: #00d7ff\">None</span>, <span style=\"color: #00af00; text-decoration-color: #00af00\">6</span>, <span style=\"color: #00af00; text-decoration-color: #00af00\">64</span>)               │           <span style=\"color: #00af00; text-decoration-color: #00af00\">6,208</span> │\n",
              "├──────────────────────────────────────┼─────────────────────────────┼─────────────────┤\n",
              "│ batch_normalization_1                │ (<span style=\"color: #00d7ff; text-decoration-color: #00d7ff\">None</span>, <span style=\"color: #00af00; text-decoration-color: #00af00\">6</span>, <span style=\"color: #00af00; text-decoration-color: #00af00\">64</span>)               │             <span style=\"color: #00af00; text-decoration-color: #00af00\">256</span> │\n",
              "│ (<span style=\"color: #0087ff; text-decoration-color: #0087ff\">BatchNormalization</span>)                 │                             │                 │\n",
              "├──────────────────────────────────────┼─────────────────────────────┼─────────────────┤\n",
              "│ conv1d_2 (<span style=\"color: #0087ff; text-decoration-color: #0087ff\">Conv1D</span>)                    │ (<span style=\"color: #00d7ff; text-decoration-color: #00d7ff\">None</span>, <span style=\"color: #00af00; text-decoration-color: #00af00\">6</span>, <span style=\"color: #00af00; text-decoration-color: #00af00\">128</span>)              │          <span style=\"color: #00af00; text-decoration-color: #00af00\">24,704</span> │\n",
              "├──────────────────────────────────────┼─────────────────────────────┼─────────────────┤\n",
              "│ flatten (<span style=\"color: #0087ff; text-decoration-color: #0087ff\">Flatten</span>)                    │ (<span style=\"color: #00d7ff; text-decoration-color: #00d7ff\">None</span>, <span style=\"color: #00af00; text-decoration-color: #00af00\">768</span>)                 │               <span style=\"color: #00af00; text-decoration-color: #00af00\">0</span> │\n",
              "├──────────────────────────────────────┼─────────────────────────────┼─────────────────┤\n",
              "│ dense (<span style=\"color: #0087ff; text-decoration-color: #0087ff\">Dense</span>)                        │ (<span style=\"color: #00d7ff; text-decoration-color: #00d7ff\">None</span>, <span style=\"color: #00af00; text-decoration-color: #00af00\">128</span>)                 │          <span style=\"color: #00af00; text-decoration-color: #00af00\">98,432</span> │\n",
              "├──────────────────────────────────────┼─────────────────────────────┼─────────────────┤\n",
              "│ dropout (<span style=\"color: #0087ff; text-decoration-color: #0087ff\">Dropout</span>)                    │ (<span style=\"color: #00d7ff; text-decoration-color: #00d7ff\">None</span>, <span style=\"color: #00af00; text-decoration-color: #00af00\">128</span>)                 │               <span style=\"color: #00af00; text-decoration-color: #00af00\">0</span> │\n",
              "├──────────────────────────────────────┼─────────────────────────────┼─────────────────┤\n",
              "│ dense_1 (<span style=\"color: #0087ff; text-decoration-color: #0087ff\">Dense</span>)                      │ (<span style=\"color: #00d7ff; text-decoration-color: #00d7ff\">None</span>, <span style=\"color: #00af00; text-decoration-color: #00af00\">64</span>)                  │           <span style=\"color: #00af00; text-decoration-color: #00af00\">8,256</span> │\n",
              "├──────────────────────────────────────┼─────────────────────────────┼─────────────────┤\n",
              "│ dropout_1 (<span style=\"color: #0087ff; text-decoration-color: #0087ff\">Dropout</span>)                  │ (<span style=\"color: #00d7ff; text-decoration-color: #00d7ff\">None</span>, <span style=\"color: #00af00; text-decoration-color: #00af00\">64</span>)                  │               <span style=\"color: #00af00; text-decoration-color: #00af00\">0</span> │\n",
              "├──────────────────────────────────────┼─────────────────────────────┼─────────────────┤\n",
              "│ dense_2 (<span style=\"color: #0087ff; text-decoration-color: #0087ff\">Dense</span>)                      │ (<span style=\"color: #00d7ff; text-decoration-color: #00d7ff\">None</span>, <span style=\"color: #00af00; text-decoration-color: #00af00\">1</span>)                   │              <span style=\"color: #00af00; text-decoration-color: #00af00\">65</span> │\n",
              "└──────────────────────────────────────┴─────────────────────────────┴─────────────────┘\n",
              "</pre>\n"
            ]
          },
          "metadata": {}
        },
        {
          "output_type": "display_data",
          "data": {
            "text/plain": [
              "\u001b[1m Total params: \u001b[0m\u001b[38;5;34m138,177\u001b[0m (539.75 KB)\n"
            ],
            "text/html": [
              "<pre style=\"white-space:pre;overflow-x:auto;line-height:normal;font-family:Menlo,'DejaVu Sans Mono',consolas,'Courier New',monospace\"><span style=\"font-weight: bold\"> Total params: </span><span style=\"color: #00af00; text-decoration-color: #00af00\">138,177</span> (539.75 KB)\n",
              "</pre>\n"
            ]
          },
          "metadata": {}
        },
        {
          "output_type": "display_data",
          "data": {
            "text/plain": [
              "\u001b[1m Trainable params: \u001b[0m\u001b[38;5;34m137,985\u001b[0m (539.00 KB)\n"
            ],
            "text/html": [
              "<pre style=\"white-space:pre;overflow-x:auto;line-height:normal;font-family:Menlo,'DejaVu Sans Mono',consolas,'Courier New',monospace\"><span style=\"font-weight: bold\"> Trainable params: </span><span style=\"color: #00af00; text-decoration-color: #00af00\">137,985</span> (539.00 KB)\n",
              "</pre>\n"
            ]
          },
          "metadata": {}
        },
        {
          "output_type": "display_data",
          "data": {
            "text/plain": [
              "\u001b[1m Non-trainable params: \u001b[0m\u001b[38;5;34m192\u001b[0m (768.00 B)\n"
            ],
            "text/html": [
              "<pre style=\"white-space:pre;overflow-x:auto;line-height:normal;font-family:Menlo,'DejaVu Sans Mono',consolas,'Courier New',monospace\"><span style=\"font-weight: bold\"> Non-trainable params: </span><span style=\"color: #00af00; text-decoration-color: #00af00\">192</span> (768.00 B)\n",
              "</pre>\n"
            ]
          },
          "metadata": {}
        }
      ]
    },
    {
      "cell_type": "code",
      "source": [
        "# Train the model\n",
        "history = model.fit(x_train, y_train,\n",
        "                    epochs=100,\n",
        "                    batch_size=128,\n",
        "                    validation_split = 0.2,\n",
        "                    callbacks=[early_stopping, reduce_lr, model_checkpoint],\n",
        "                    class_weight = class_weights,\n",
        "#                    shuffle=False,\n",
        "                    verbose=0)"
      ],
      "metadata": {
        "collapsed": true,
        "id": "djG_sVe2Kpnc"
      },
      "execution_count": null,
      "outputs": []
    },
    {
      "cell_type": "code",
      "source": [
        "# Visualize Data\n",
        "plt.figure(figsize=(12, 5))\n",
        "\n",
        "plt.subplot(1, 3, 1)\n",
        "plt.plot(history.history['loss'], label='Training Loss')\n",
        "plt.plot(history.history['val_loss'], label='Validation Loss')\n",
        "plt.title('Training vs Validation Loss')\n",
        "plt.xlabel('Epochs')\n",
        "plt.ylabel('Loss')\n",
        "plt.legend()\n",
        "\n",
        "plt.subplot(1, 3, 2)\n",
        "plt.plot(history.history['accuracy'], label='Training Accuracy')\n",
        "plt.plot(history.history['val_accuracy'], label='Validation Accuracy')\n",
        "plt.title('Training vs Validation Accuracy')\n",
        "plt.xlabel('Epochs')\n",
        "plt.ylabel('Accuracy')\n",
        "plt.legend()\n",
        "\n",
        "plt.subplot(1, 3, 3)\n",
        "plt.plot(history.history['learning_rate'], label='Learning Rate')\n",
        "plt.title('Learning Rate')\n",
        "plt.xlabel('Epochs')\n",
        "plt.ylabel('Learning Rate')\n",
        "plt.legend()\n",
        "\n",
        "plt.tight_layout()\n",
        "plt.show()"
      ],
      "metadata": {
        "colab": {
          "base_uri": "https://localhost:8080/",
          "height": 507
        },
        "id": "GgJHnktUKqx7",
        "outputId": "b6fd59e7-48e3-4a28-bc62-457777d47177"
      },
      "execution_count": null,
      "outputs": [
        {
          "output_type": "display_data",
          "data": {
            "text/plain": [
              "<Figure size 1200x500 with 3 Axes>"
            ],
            "image/png": "[encoded data removed]"
          },
          "metadata": {}
        }
      ]
    },
    {
      "cell_type": "code",
      "source": [
        "# verifying model on Another Dataset\n",
        "# Fetching Outage Data\n",
        "i = 2;\n",
        "curFips = countyData.iloc[i]['GEOID']\n",
        "temp = outageData.loc[outageData['fips_code'].isin([curFips])]\n",
        "\n",
        "# Adjust Data to have run_start_time as index, and values as 1 or 0 based on outage.\n",
        "temp['run_start_time'] = pd.to_datetime(temp['run_start_time'], format='%Y-%m-%d %H:%M:%S')\n",
        "temp.set_index('run_start_time', inplace=True)\n",
        "temp.loc[temp['fips_code'] == curFips, 'fips_code'] = 1\n",
        "temp.rename(columns={'fips_code': str(curFips)}, inplace=True)\n",
        "\n",
        "# Ensure data has correct number of columns\n",
        "outageTestData = pd.DataFrame(temp, index = timeSeries)\n",
        "\n",
        "# Fill NaN with 0, to be readable by ML model\n",
        "outageTestData = outageTestData.fillna(0)\n",
        "\n",
        "# Compute Class Weights\n",
        "testWeights = {}\n",
        "count = {0: 0, 1: 0}\n",
        "for col in outageTestData.columns:\n",
        "  tempCount = outageTestData[col].value_counts()\n",
        "  count[0] += tempCount.get(0,0)\n",
        "  count[1] += tempCount.get(1,0)\n",
        "print(count)\n",
        "testWeights[0] = count[0] / (count[0] + count[1])\n",
        "testWeights[1] = count[1] / (count[1] + count[0])\n",
        "\n",
        "print(class_weights)\n",
        "\n",
        "# Explore the Output\n",
        "print(outageTestData.sum())"
      ],
      "metadata": {
        "colab": {
          "base_uri": "https://localhost:8080/"
        },
        "id": "2XAfJqYdRaCw",
        "outputId": "a3c78aad-6e1b-4b97-cbaa-900225620f99"
      },
      "execution_count": null,
      "outputs": [
        {
          "metadata": {
            "tags": null
          },
          "name": "stdout",
          "output_type": "stream",
          "text": [
            "{0: 34293, 1: 747}\n",
            "{0: 1.0, 1: 40.41843971631206}\n",
            "1005    747.0\n",
            "dtype: float64\n"
          ]
        },
        {
          "metadata": {
            "tags": null
          },
          "name": "stderr",
          "output_type": "stream",
          "text": [
            "SettingWithCopyWarning: \n",
            "A value is trying to be set on a copy of a slice from a DataFrame.\n",
            "Try using .loc[row_indexer,col_indexer] = value instead\n",
            "\n",
            "See the caveats in the documentation: https://pandas.pydata.org/pandas-docs/stable/user_guide/indexing.html#returning-a-view-versus-a-copy\n",
            "SettingWithCopyWarning: \n",
            "A value is trying to be set on a copy of a slice from a DataFrame\n",
            "\n",
            "See the caveats in the documentation: https://pandas.pydata.org/pandas-docs/stable/user_guide/indexing.html#returning-a-view-versus-a-copy\n",
            "SettingWithCopyWarning: \n",
            "A value is trying to be set on a copy of a slice from a DataFrame\n",
            "\n",
            "See the caveats in the documentation: https://pandas.pydata.org/pandas-docs/stable/user_guide/indexing.html#returning-a-view-versus-a-copy\n"
          ]
        }
      ]
    },
    {
      "cell_type": "code",
      "source": [
        "# Fetch weather data in US in time range\n",
        "weatherTestData = pd.DataFrame()\n",
        "row = countyData.iloc[i]\n",
        "latTemp = float(row['lat'])\n",
        "longTemp = float(row['long'])\n",
        "tempPoint = Point(latTemp, longTemp)\n",
        "temp = Hourly(tempPoint, startTime, endTime)\n",
        "dataTemp = temp.fetch()\n",
        "if(not dataTemp.empty):\n",
        "  dataTemp.drop('dwpt', axis=1, inplace=True)\n",
        "  dataTemp.drop('snow', axis=1, inplace=True)\n",
        "  dataTemp.drop('wpgt', axis=1, inplace=True)\n",
        "  dataTemp.drop('tsun', axis=1, inplace=True)\n",
        "  dataTemp.drop('coco', axis=1, inplace=True)\n",
        "\n",
        "  # Rename Data to unique identifiers\n",
        "  dataTemp.rename(columns={'temp': str(row['GEOID']) + 'temp'}, inplace=True)\n",
        "  dataTemp.rename(columns={'rhum': str(row['GEOID']) + 'rhum'}, inplace=True)\n",
        "  dataTemp.rename(columns={'prcp': str(row['GEOID']) + 'prcp'}, inplace=True)\n",
        "  dataTemp.rename(columns={'wdir': str(row['GEOID']) + 'wdir'}, inplace=True)\n",
        "  dataTemp.rename(columns={'wspd': str(row['GEOID']) + 'wspd'}, inplace=True)\n",
        "  dataTemp.rename(columns={'pres': str(row['GEOID']) + 'pres'}, inplace=True)\n",
        "\n",
        "  # Begin Joining Data w/ unique column names\n",
        "  weatherTestData = dataTemp\n",
        "\n",
        "# Add delay in fetching data to prevent query errors. Experimentation required for reasonable amount of sleep\n",
        "time.sleep(.25)\n",
        "\n",
        "# Clean Data\n",
        "weatherTestData15min = weatherTestData.resample('15min').mean()\n",
        "weatherTestData15min = weatherTestData15min.interpolate()\n",
        "weatherTestData15min = weatherTestData15min.bfill()\n",
        "weatherTestData15min = weatherTestData15min.dropna(axis=1)\n",
        "\n",
        "# Ensure index matches neccesary format. Including last 45 minutes\n",
        "weatherTestData15min = weatherTestData15min.reindex(timeSeries)\n",
        "weatherTestData15min = weatherTestData15min.ffill()\n",
        "weatherTestData15min = weatherTestData15min.bfill()"
      ],
      "metadata": {
        "colab": {
          "base_uri": "https://localhost:8080/"
        },
        "id": "Pog1eg0xSsPA",
        "outputId": "4c242c72-1134-4368-ba2b-4fe8e37e9997"
      },
      "execution_count": null,
      "outputs": [
        {
          "output_type": "stream",
          "name": "stderr",
          "text": [
            "FutureWarning: Support for nested sequences for 'parse_dates' in pd.read_csv is deprecated. Combine the desired columns with pd.to_datetime after parsing instead.\n",
            "FutureWarning: 'H' is deprecated and will be removed in a future version, please use 'h' instead.\n"
          ]
        }
      ]
    },
    {
      "cell_type": "code",
      "source": [
        "# Standardize the Weather Data set\n",
        "testScaler = StandardScaler()\n",
        "weatherTestData15min = testScaler.fit_transform(weatherTestData15min)\n",
        "\n",
        "# Create training and testing sets\n",
        "x_test = weatherTestData15min\n",
        "y_test = outageTestData.to_numpy()\n",
        "\n",
        "# Reshape the input data to have correct shape for CNN\n",
        "x_test = x_test.reshape(x_test.shape[0], x_test.shape[1], 1)"
      ],
      "metadata": {
        "id": "yBrd2BxGVYjs"
      },
      "execution_count": null,
      "outputs": []
    },
    {
      "cell_type": "code",
      "source": [
        "eval = model.evaluate(x_test, y_test)\n",
        "print(eval)"
      ],
      "metadata": {
        "colab": {
          "base_uri": "https://localhost:8080/"
        },
        "id": "T7620NBo3R1b",
        "outputId": "46102de4-51ec-40be-e383-ef35524a4e84"
      },
      "execution_count": null,
      "outputs": [
        {
          "output_type": "stream",
          "name": "stdout",
          "text": [
            "\u001b[1m1095/1095\u001b[0m \u001b[32m━━━━━━━━━━━━━━━━━━━━\u001b[0m\u001b[37m\u001b[0m \u001b[1m4s\u001b[0m 4ms/step - accuracy: 0.8797 - loss: 0.6468\n",
            "[0.3953089118003845, 0.928681492805481]\n"
          ]
        }
      ]
    }
  ]
}